{
 "cells": [
  {
   "cell_type": "markdown",
   "id": "2b2b26bd-0d86-46d2-9b3a-ef84104d6146",
   "metadata": {},
   "source": [
    "# Normalization Problem"
   ]
  },
  {
   "cell_type": "code",
   "execution_count": 46,
   "id": "2a97e412-fa2f-48e3-b22b-ec2de99178a7",
   "metadata": {},
   "outputs": [
    {
     "name": "stdout",
     "output_type": "stream",
     "text": [
      "Original Value: \n",
      " [[0.87037248 0.42925409 0.46006074 0.0530019  0.02381168]\n",
      " [0.42955772 0.4409152  0.42538352 0.07886666 0.88298938]\n",
      " [0.58848397 0.67022813 0.10858229 0.2085296  0.23043778]\n",
      " [0.09636145 0.9465615  0.01900316 0.9665661  0.75884289]\n",
      " [0.74243184 0.53316819 0.77195091 0.70153193 0.59288722]] \n",
      " Normalized Value: \n",
      " [[ 1.28068961 -0.17091094 -0.06953465 -1.40905446 -1.50511152]\n",
      " [-0.16991179 -0.13253741 -0.18364792 -1.32394057  1.32220838]\n",
      " [ 0.35307126  0.62206904 -1.22615454 -0.89725514 -0.82516127]\n",
      " [-1.26637     1.53140694 -1.52093508  1.59723663  0.91367607]\n",
      " [ 0.85967178  0.17104209  0.956811    0.72508133  0.36756115]]\n"
     ]
    }
   ],
   "source": [
    "import numpy as np\n",
    "\n",
    "\n",
    "X = np.random.rand(5, 5) #Create the random 5x5 array\n",
    "\n",
    "Z = (X - X.mean()) / X.std() #Formula for the Normalized Values\n",
    "\n",
    "\n",
    "np.save(\"X_normalized.npy\", Z) #save Normalized values as X_normalized.npy\n",
    "\n",
    "\n",
    "print (\"Original Value: \\n\", X, \"\\n Normalized Value: \\n\", Z) #Print both the original value \"X\" and the Normalized value \"Z\""
   ]
  },
  {
   "cell_type": "markdown",
   "id": "f6ab01f4-68f7-4936-8fd4-9bdb47295f84",
   "metadata": {},
   "source": [
    "# Divisible by 3 problem"
   ]
  },
  {
   "cell_type": "code",
   "execution_count": 140,
   "id": "5c9c283c-f84b-47f9-bbdb-c2fbad87b110",
   "metadata": {},
   "outputs": [
    {
     "name": "stdout",
     "output_type": "stream",
     "text": [
      "The number table is: \n",
      " [[    1     4     9    16    25    36    49    64    81   100]\n",
      " [  121   144   169   196   225   256   289   324   361   400]\n",
      " [  441   484   529   576   625   676   729   784   841   900]\n",
      " [  961  1024  1089  1156  1225  1296  1369  1444  1521  1600]\n",
      " [ 1681  1764  1849  1936  2025  2116  2209  2304  2401  2500]\n",
      " [ 2601  2704  2809  2916  3025  3136  3249  3364  3481  3600]\n",
      " [ 3721  3844  3969  4096  4225  4356  4489  4624  4761  4900]\n",
      " [ 5041  5184  5329  5476  5625  5776  5929  6084  6241  6400]\n",
      " [ 6561  6724  6889  7056  7225  7396  7569  7744  7921  8100]\n",
      " [ 8281  8464  8649  8836  9025  9216  9409  9604  9801 10000]]\n",
      "The numbers divisible by 3 are: \n",
      " [   9   36   81  144  225  324  441  576  729  900 1089 1296 1521 1764\n",
      " 2025 2304 2601 2916 3249 3600 3969 4356 4761 5184 5625 6084 6561 7056\n",
      " 7569 8100 8649 9216 9801]\n"
     ]
    }
   ],
   "source": [
    "import numpy as np\n",
    "\n",
    "\n",
    "list = np.arange(1,101) #create a list from 1-100 as \"list\"\n",
    "\n",
    "array = list.reshape(10,10) #turn the list into a 10x10 array\n",
    "\n",
    "Squared_Array = np.square(array) #Make the numbers in the array squared as \"Squared_Array\"\n",
    "\n",
    "print(\"The number table is: \\n\", Squared_Array) #Print the number table\n",
    "\n",
    "A = Squared_Array[Squared_Array % 3 == 0] #make an if statement that prints the numbers divisible by 3 labeled as \"A\"\n",
    "\n",
    "print (\"The numbers divisible by 3 are: \\n\", A) #print the values that is divisible by 3"
   ]
  },
  {
   "cell_type": "code",
   "execution_count": null,
   "id": "9c0cf515-87be-4bdc-99dd-73f819cafb6b",
   "metadata": {},
   "outputs": [],
   "source": []
  },
  {
   "cell_type": "code",
   "execution_count": null,
   "id": "b62626b2-95a5-4cf5-a1e1-422ce8403e5e",
   "metadata": {},
   "outputs": [],
   "source": []
  }
 ],
 "metadata": {
  "kernelspec": {
   "display_name": "Python 3 (ipykernel)",
   "language": "python",
   "name": "python3"
  },
  "language_info": {
   "codemirror_mode": {
    "name": "ipython",
    "version": 3
   },
   "file_extension": ".py",
   "mimetype": "text/x-python",
   "name": "python",
   "nbconvert_exporter": "python",
   "pygments_lexer": "ipython3",
   "version": "3.12.4"
  }
 },
 "nbformat": 4,
 "nbformat_minor": 5
}
